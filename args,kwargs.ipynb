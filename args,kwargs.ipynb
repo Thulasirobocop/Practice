{
 "cells": [
  {
   "cell_type": "code",
   "execution_count": 4,
   "id": "58ea901b",
   "metadata": {},
   "outputs": [],
   "source": [
    "def func(*args,**kwargs):\n",
    "    for i in kwargs.items():\n",
    "        print(i)"
   ]
  },
  {
   "cell_type": "code",
   "execution_count": 7,
   "id": "2da296e7",
   "metadata": {},
   "outputs": [
    {
     "name": "stdout",
     "output_type": "stream",
     "text": [
      "('a', 3)\n",
      "('b', 4)\n",
      "('c', 4)\n",
      "('d', 'fsjf')\n",
      "('D', 89)\n"
     ]
    }
   ],
   "source": [
    "func(a=3,b=4,c=4,d='fsjf',D=89)"
   ]
  },
  {
   "cell_type": "code",
   "execution_count": null,
   "id": "7e6d7ac2",
   "metadata": {},
   "outputs": [],
   "source": []
  }
 ],
 "metadata": {
  "kernelspec": {
   "display_name": "Python 3",
   "language": "python",
   "name": "python3"
  },
  "language_info": {
   "codemirror_mode": {
    "name": "ipython",
    "version": 3
   },
   "file_extension": ".py",
   "mimetype": "text/x-python",
   "name": "python",
   "nbconvert_exporter": "python",
   "pygments_lexer": "ipython3",
   "version": "3.8.8"
  }
 },
 "nbformat": 4,
 "nbformat_minor": 5
}
